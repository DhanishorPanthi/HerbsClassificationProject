{
 "cells": [
  {
   "cell_type": "code",
   "execution_count": 1,
   "metadata": {},
   "outputs": [
    {
     "name": "stdout",
     "output_type": "stream",
     "text": [
      "Images have been copied successfully.\n"
     ]
    }
   ],
   "source": [
    "import os\n",
    "import random\n",
    "import shutil\n",
    "from PIL import Image\n",
    "\n",
    "def is_image(file_path):\n",
    "    try:\n",
    "        with Image.open(file_path) as img:\n",
    "            img.verify()  # Verify if it's an image\n",
    "        return True\n",
    "    except (IOError, SyntaxError):\n",
    "        return False\n",
    "\n",
    "def copy_images(src_folder, dest_folder, max_images=700):\n",
    "    # Create the destination folder if it doesn't exist\n",
    "    if not os.path.exists(dest_folder):\n",
    "        os.makedirs(dest_folder)\n",
    "\n",
    "    for plant_folder in os.listdir(src_folder):\n",
    "        plant_path = os.path.join(src_folder, plant_folder)\n",
    "        if os.path.isdir(plant_path):\n",
    "            # Get all image files in the plant's folder\n",
    "            images = [f for f in os.listdir(plant_path) if is_image(os.path.join(plant_path, f))]\n",
    "            \n",
    "            # If there are more than max_images, sample randomly\n",
    "            if len(images) > max_images:\n",
    "                images = random.sample(images, max_images)\n",
    "            \n",
    "            # Create a subfolder in the destination folder for the current plant\n",
    "            dest_plant_folder = os.path.join(dest_folder, plant_folder)\n",
    "            if not os.path.exists(dest_plant_folder):\n",
    "                os.makedirs(dest_plant_folder)\n",
    "            \n",
    "            # Copy the selected images to the new folder\n",
    "            for image in images:\n",
    "                src_image_path = os.path.join(plant_path, image)\n",
    "                dest_image_path = os.path.join(dest_plant_folder, image)\n",
    "                shutil.copy(src_image_path, dest_image_path)\n",
    "\n",
    "if __name__ == \"__main__\":\n",
    "    src_folder = \"D:\\\\Ashutosh\\\\Herbs\\\\Cleaned_Data\\\\All\"  # Replace with your source folder path\n",
    "    dest_folder = \"D:\\\\Ashutosh\\\\Herbs\\\\Cleanede_Data\\\\All700\"  # Replace with your desired output folder path\n",
    "    copy_images(src_folder, dest_folder)\n",
    "    print(\"Images have been copied successfully.\")\n"
   ]
  },
  {
   "cell_type": "markdown",
   "metadata": {},
   "source": [
    "### For sampling a single class for at most 1300 images"
   ]
  },
  {
   "cell_type": "code",
   "execution_count": 3,
   "metadata": {},
   "outputs": [
    {
     "ename": "FileNotFoundError",
     "evalue": "[WinError 3] The system cannot find the path specified: 'path_to_subfolder'",
     "output_type": "error",
     "traceback": [
      "\u001b[1;31m---------------------------------------------------------------------------\u001b[0m",
      "\u001b[1;31mFileNotFoundError\u001b[0m                         Traceback (most recent call last)",
      "Cell \u001b[1;32mIn[3], line 35\u001b[0m\n\u001b[0;32m     33\u001b[0m src_folder \u001b[38;5;241m=\u001b[39m \u001b[38;5;124m\"\u001b[39m\u001b[38;5;124mpath_to_subfolder\u001b[39m\u001b[38;5;124m\"\u001b[39m  \u001b[38;5;66;03m# Replace with the path to your source subfolder\u001b[39;00m\n\u001b[0;32m     34\u001b[0m dest_folder \u001b[38;5;241m=\u001b[39m \u001b[38;5;124m\"\u001b[39m\u001b[38;5;124mpath_to_output_folder\u001b[39m\u001b[38;5;124m\"\u001b[39m  \u001b[38;5;66;03m# Replace with the desired output folder path\u001b[39;00m\n\u001b[1;32m---> 35\u001b[0m \u001b[43mcopy_images\u001b[49m\u001b[43m(\u001b[49m\u001b[43msrc_folder\u001b[49m\u001b[43m,\u001b[49m\u001b[43m \u001b[49m\u001b[43mdest_folder\u001b[49m\u001b[43m)\u001b[49m\n\u001b[0;32m     36\u001b[0m \u001b[38;5;28mprint\u001b[39m(\u001b[38;5;124m\"\u001b[39m\u001b[38;5;124mImages have been copied successfully.\u001b[39m\u001b[38;5;124m\"\u001b[39m)\n",
      "Cell \u001b[1;32mIn[3], line 20\u001b[0m, in \u001b[0;36mcopy_images\u001b[1;34m(src_folder, dest_folder, max_images)\u001b[0m\n\u001b[0;32m     17\u001b[0m     os\u001b[38;5;241m.\u001b[39mmakedirs(dest_folder)\n\u001b[0;32m     19\u001b[0m \u001b[38;5;66;03m# Get all image files in the source folder\u001b[39;00m\n\u001b[1;32m---> 20\u001b[0m images \u001b[38;5;241m=\u001b[39m [f \u001b[38;5;28;01mfor\u001b[39;00m f \u001b[38;5;129;01min\u001b[39;00m \u001b[43mos\u001b[49m\u001b[38;5;241;43m.\u001b[39;49m\u001b[43mlistdir\u001b[49m\u001b[43m(\u001b[49m\u001b[43msrc_folder\u001b[49m\u001b[43m)\u001b[49m \u001b[38;5;28;01mif\u001b[39;00m is_image(os\u001b[38;5;241m.\u001b[39mpath\u001b[38;5;241m.\u001b[39mjoin(src_folder, f))]\n\u001b[0;32m     22\u001b[0m \u001b[38;5;66;03m# If there are more than max_images, sample randomly\u001b[39;00m\n\u001b[0;32m     23\u001b[0m \u001b[38;5;28;01mif\u001b[39;00m \u001b[38;5;28mlen\u001b[39m(images) \u001b[38;5;241m>\u001b[39m max_images:\n",
      "\u001b[1;31mFileNotFoundError\u001b[0m: [WinError 3] The system cannot find the path specified: 'path_to_subfolder'"
     ]
    }
   ],
   "source": [
    "import os\n",
    "import random\n",
    "import shutil\n",
    "from PIL import Image\n",
    "\n",
    "def is_image(file_path):\n",
    "    try:\n",
    "        with Image.open(file_path) as img:\n",
    "            img.verify()  # Verify if it's an image\n",
    "        return True\n",
    "    except (IOError, SyntaxError):\n",
    "        return False\n",
    "\n",
    "def copy_images(src_folder, dest_folder, max_images=1300):\n",
    "    # Create the destination folder if it doesn't exist\n",
    "    if not os.path.exists(dest_folder):\n",
    "        os.makedirs(dest_folder)\n",
    "\n",
    "    # Get all image files in the source folder\n",
    "    images = [f for f in os.listdir(src_folder) if is_image(os.path.join(src_folder, f))]\n",
    "    \n",
    "    # If there are more than max_images, sample randomly\n",
    "    if len(images) > max_images:\n",
    "        images = random.sample(images, max_images)\n",
    "    \n",
    "    # Copy the selected images to the new folder\n",
    "    for image in images:\n",
    "        src_image_path = os.path.join(src_folder, image)\n",
    "        dest_image_path = os.path.join(dest_folder, image)\n",
    "        shutil.copy(src_image_path, dest_image_path)\n",
    "\n",
    "if __name__ == \"__main__\":\n",
    "    src_folder = \"path_to_subfolder\"  # Replace with the path to your source subfolder\n",
    "    dest_folder = \"path_to_output_folder\"  # Replace with the desired output folder path\n",
    "    copy_images(src_folder, dest_folder)\n",
    "    print(\"Images have been copied successfully.\")\n"
   ]
  }
 ],
 "metadata": {
  "kernelspec": {
   "display_name": "tf",
   "language": "python",
   "name": "python3"
  },
  "language_info": {
   "codemirror_mode": {
    "name": "ipython",
    "version": 3
   },
   "file_extension": ".py",
   "mimetype": "text/x-python",
   "name": "python",
   "nbconvert_exporter": "python",
   "pygments_lexer": "ipython3",
   "version": "3.9.21"
  }
 },
 "nbformat": 4,
 "nbformat_minor": 2
}
