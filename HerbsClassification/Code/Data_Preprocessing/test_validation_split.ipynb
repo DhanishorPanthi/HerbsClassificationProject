{
 "cells": [
  {
   "cell_type": "markdown",
   "metadata": {},
   "source": [
    "### Training and Validation Split"
   ]
  },
  {
   "cell_type": "code",
   "execution_count": null,
   "metadata": {},
   "outputs": [],
   "source": [
    "import os\n",
    "import shutil\n",
    "import random\n",
    "\n",
    "# Define paths\n",
    "source_dir = 'D:\\Ashutosh\\Herbs\\Cleanede_Data\\All700'\n",
    "validation_dir = 'D:\\Ashutosh\\Herbs\\Cleanede_Data\\Val'\n",
    "training_dir = 'D:\\Ashutosh\\Herbs\\Cleanede_Data\\Train'\n",
    "\n",
    "# Define split ratios\n",
    "validation_split = 0.2  # 20% for validation\n",
    "training_split = 1 - validation_split  # 80% for training\n",
    "\n",
    "# Ensure target directories exist\n",
    "os.makedirs(validation_dir, exist_ok=True)\n",
    "os.makedirs(training_dir, exist_ok=True)\n",
    "\n",
    "# Collect all image files from subdirectories\n",
    "all_files = []\n",
    "for subdir, _, files in os.walk(source_dir):\n",
    "    for file_name in files:\n",
    "        file_path = os.path.join(subdir, file_name)\n",
    "        if not file_name.startswith('.'):  # Ignore hidden files\n",
    "            all_files.append(file_path)\n",
    "\n",
    "print(\"Total files collected:\", len(all_files))\n",
    "\n",
    "# Shuffle the list of files\n",
    "random.shuffle(all_files)\n",
    "\n",
    "# Calculate split indices\n",
    "total_files = len(all_files)\n",
    "validation_count = int(total_files * validation_split)\n",
    "\n",
    "# Define splits\n",
    "validation_files = all_files[:validation_count]\n",
    "training_files = all_files[validation_count:]\n",
    "\n",
    "# Function to move files while preserving directory structure\n",
    "def move_files(file_list, target_dir):\n",
    "    for file_path in file_list:\n",
    "        # Create the same directory structure in the target directory\n",
    "        rel_path = os.path.relpath(file_path, source_dir)\n",
    "        target_path = os.path.join(target_dir, rel_path)\n",
    "        os.makedirs(os.path.dirname(target_path), exist_ok=True)\n",
    "        shutil.move(file_path, target_path)\n",
    "\n",
    "# Move files to their respective directories\n",
    "move_files(validation_files, validation_dir)\n",
    "move_files(training_files, training_dir)\n",
    "\n",
    "print(f\"Moved {len(validation_files)} files to validation.\")\n",
    "print(f\"Moved {len(training_files)} files to training.\")\n",
    "print(f\"Remaining files: {0} (All files have been moved)\")"
   ]
  },
  {
   "cell_type": "markdown",
   "metadata": {},
   "source": [
    "### Check and remove corrupted files"
   ]
  },
  {
   "cell_type": "code",
   "execution_count": null,
   "metadata": {},
   "outputs": [],
   "source": [
    "from PIL import Image\n",
    "import os\n",
    "\n",
    "def remove_corrupted_images(directory):\n",
    "    total_files = 0\n",
    "    checked_files = 0\n",
    "    corrupted_files = 0\n",
    "\n",
    "    # First pass to count total files\n",
    "    for subdir, _, files in os.walk(directory):\n",
    "        total_files += len(files)\n",
    "\n",
    "    print(f\"Total files to check: {total_files}\")\n",
    "\n",
    "    # Second pass to check and remove corrupted images\n",
    "    for subdir, _, files in os.walk(directory):\n",
    "        for file in files:\n",
    "            file_path = os.path.join(subdir, file)\n",
    "            try:\n",
    "                with Image.open(file_path) as img:\n",
    "                    img.verify()  # Verify image file\n",
    "                checked_files += 1\n",
    "                print(f\"Checked image {file_path}\")\n",
    "            except (IOError, SyntaxError) as e:\n",
    "                print(f\"Corrupted image {file_path}: {e}\")\n",
    "                os.remove(file_path)\n",
    "                corrupted_files += 1\n",
    "\n",
    "    print(f\"Checked {checked_files} images.\")\n",
    "    print(f\"Removed {corrupted_files} corrupted images.\")\n",
    "    print(f\"Total images processed: {total_files}\")\n",
    "\n",
    "# Run the function on your dataset directory\n",
    "remove_corrupted_images(\"D:\\\\Ashutosh\\\\Herbs\\\\AllCombinedClasses\")\n"
   ]
  }
 ],
 "metadata": {
  "language_info": {
   "name": "python"
  }
 },
 "nbformat": 4,
 "nbformat_minor": 2
}
